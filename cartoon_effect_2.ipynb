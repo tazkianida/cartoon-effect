{
  "nbformat": 4,
  "nbformat_minor": 0,
  "metadata": {
    "colab": {
      "name": "cartoon_effect_2.ipynb",
      "provenance": [],
      "collapsed_sections": [],
      "authorship_tag": "ABX9TyNGv+6Xu7rYF8gXoh1E6wBt",
      "include_colab_link": true
    },
    "kernelspec": {
      "name": "python3",
      "display_name": "Python 3"
    }
  },
  "cells": [
    {
      "cell_type": "markdown",
      "metadata": {
        "id": "view-in-github",
        "colab_type": "text"
      },
      "source": [
        "<a href=\"https://colab.research.google.com/github/tazkianida/cartoon-effect/blob/main/cartoon_effect_2.ipynb\" target=\"_parent\"><img src=\"https://colab.research.google.com/assets/colab-badge.svg\" alt=\"Open In Colab\"/></a>"
      ]
    },
    {
      "cell_type": "code",
      "metadata": {
        "id": "kYLY9p3s-Y-N"
      },
      "source": [
        "import cv2\n",
        "import numpy as np\n",
        "from google.colab.patches import cv2_imshow\n",
        "from google.colab import files"
      ],
      "execution_count": null,
      "outputs": []
    },
    {
      "cell_type": "code",
      "metadata": {
        "id": "n4D0F91D-jg_"
      },
      "source": [
        "def read_file(filename):\n",
        "  img = cv2.imread(filename)\n",
        "  cv2_imshow(img)\n",
        "  return img"
      ],
      "execution_count": null,
      "outputs": []
    },
    {
      "cell_type": "code",
      "metadata": {
        "id": "PBbn6wwu-lEv"
      },
      "source": [
        "def color_quantization(img, k):\n",
        "# Transform the image\n",
        "  data = np.float32(img).reshape((-1, 3))\n",
        "\n",
        "# Determine criteria\n",
        "  criteria = (cv2.TERM_CRITERIA_EPS + cv2.TERM_CRITERIA_MAX_ITER, 20, 0.001)\n",
        "\n",
        "# Implementing K-Means\n",
        "  ret, label, center = cv2.kmeans(data, k, None, criteria, 10, cv2.KMEANS_RANDOM_CENTERS)\n",
        "  center = np.uint8(center)\n",
        "  result = center[label.flatten()]\n",
        "  result = result.reshape(img.shape)\n",
        "  return result"
      ],
      "execution_count": null,
      "outputs": []
    },
    {
      "cell_type": "code",
      "metadata": {
        "id": "0zfy0KeLEM8W"
      },
      "source": [
        "def edge_mask(img, line_size, blur_value):\n",
        "  gray = cv2.cvtColor(img, cv2.COLOR_BGR2GRAY)\n",
        "  gray_blur = cv2.medianBlur(gray, blur_value)\n",
        "  edges = cv2.adaptiveThreshold(gray_blur, 255, cv2.ADAPTIVE_THRESH_MEAN_C, cv2.THRESH_BINARY, line_size, blur_value)\n",
        "  return edges"
      ],
      "execution_count": null,
      "outputs": []
    },
    {
      "cell_type": "markdown",
      "metadata": {
        "id": "F3U9shvj-pJi"
      },
      "source": [
        "**Upload Image File**"
      ]
    },
    {
      "cell_type": "code",
      "metadata": {
        "id": "5Hwp37jt-oNv"
      },
      "source": [
        "uploaded = files.upload()"
      ],
      "execution_count": null,
      "outputs": []
    },
    {
      "cell_type": "markdown",
      "metadata": {
        "id": "7IiqkkXE-0jn"
      },
      "source": [
        "**Run Code to Create Cartoon Effect**"
      ]
    },
    {
      "cell_type": "code",
      "metadata": {
        "id": "UbEoMJNT-xNU"
      },
      "source": [
        "filename = next(iter(uploaded))\n",
        "img = read_file(filename)\n",
        "\n",
        "total_color = 9\n",
        "\n",
        "img_1 = color_quantization(img, total_color)\n",
        "cv2_imshow(img_1)"
      ],
      "execution_count": null,
      "outputs": []
    },
    {
      "cell_type": "code",
      "metadata": {
        "id": "4TS0vuq_CY19"
      },
      "source": [
        "blurred = cv2.bilateralFilter(img_1, d=7, sigmaColor=200,sigmaSpace=200)\n",
        "cv2_imshow(blurred)"
      ],
      "execution_count": null,
      "outputs": []
    },
    {
      "cell_type": "code",
      "metadata": {
        "id": "a-0aYTQTEZ50"
      },
      "source": [
        "line_size = 7\n",
        "blur_value = 7\n",
        "\n",
        "edges = edge_mask(img, line_size, blur_value)\n",
        "cv2_imshow(edges)"
      ],
      "execution_count": null,
      "outputs": []
    },
    {
      "cell_type": "code",
      "metadata": {
        "id": "cyBGM-vuFNrE"
      },
      "source": [
        "cartoon = cv2.bitwise_and(blurred, blurred, mask=edges)\n",
        "cv2_imshow(cartoon)"
      ],
      "execution_count": null,
      "outputs": []
    }
  ]
}